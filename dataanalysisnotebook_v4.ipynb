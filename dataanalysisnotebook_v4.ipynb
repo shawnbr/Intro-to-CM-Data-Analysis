{
 "cells": [
  {
   "cell_type": "markdown",
   "metadata": {},
   "source": [
    "# Connective Media Data Analysis - Gowalla Social Network\n",
    "##<span style=\"color:#B0AEAE\">Authors: Shawn Bramson and Oliver Hoffman</span>\n",
    "\n",
    "\n",
    "## 1. Abstract\n",
    "\n",
    "The success of Social Networking Sites (SNS) heavily depends on the amount of active users who engage in the service and their contributions. It is not uncommon for many of these users to access SNSs with the sole purpose of benefiting from the contributions of a few. In that sense, the developers and designers of the services find it necessary to motivate users to contribute more content to the site in order to keep the service alive by attracting new users and keeping the current ones engaged in the service. \n",
    "\n",
    "Social behaviour theory has been in many cases demonstrated to be appliacble to Connective Media applications. Being able to identify the key concepts of this theory and how they apply both to the design and execution of a SNS would be highly benefitial to the developers behind them. More specifically it would help them understand their users and identify the areas in which their services can be improved. \n",
    "\n",
    "In this assignment we intend to use some the Connective Media theories learned throughout the semester to analyze the _Gowalla Social Network_ and see how they apply. In that sense, the theories we want to use include:\n",
    "\n",
    "* Burke's work on **social learning**, which explains that:\n",
    "  > _From the perspective of a user, a social network site is primarily comprised of a set of friends and the content they produce. Therefore, **one likely influence on newcomers’ behavior is the behavior of their friends.** Social learning theory suggests that **people learn by observation in social situations, and that they will begin to act like people they observe** even without external incentives._\n",
    "\n",
    "  We are going to analyze the _Gowalla Social Network_ and see if there is a direct influence on the motivation of users to contribute more based on what they observe in others.  \n",
    "  \n",
    "  \n",
    "* Peerce's work on the **Reader-to-Leader framework**, which categorizes users into _readers, contributors, collaborators, and leaders_. Based on this framework (adapting it of course to the social network in question), we would like to identify the key users (leaders) who are responsible for the motivation to contribute/collaborate on most users of the _Gowalla Social Network_ and who are the readers (who simply use the social network to get information from it). \n",
    "\n",
    "\n",
    "* Granovetters's work on **strong ties and weak ties**, which explains how users are influenced by the information they receive from their weak ties (in many cases even more so than the information received from their strong ties). Although identifying how this influence takes place in the _Gowalla Social Network_ might be too complicated, we are going to try and analyze what connections are most likely to be the weak ties in the social network (as they might carry more influence in the users' behaviour than one might initially expect) as well as the strong ties. \n",
    "\n",
    "\n",
    "## 2. Data Overview\n",
    "\n",
    "The dataset on which our analysis will be carried out is the [SNAP's Gowalla Social Network](http://snap.stanford.edu/data/loc-gowalla.html) dataset. [Gowalla](http://en.wikipedia.org/wiki/Gowalla) was a location-based social networking website where users shared their locations by checking-in. The files included in the dataset contain information over the period of Feb. 2009 - Oct. 2010 and include:\n",
    "\n",
    "* An undirected graph of the friendship network which was collected using their public API, and consists of 196,591 nodes and 950,327 edges.\n",
    "\n",
    "* A total of 6,442,890 geo-tagged check-ins for each user.\n",
    "\n",
    "### 2.1 Structure of the data\n",
    "\n",
    "Before beginning the analysis process it is necessary to see if there are no problems accessing the files and then checking what the structure of the data looks like:\n",
    "\n",
    "#### Gowalla's Graph Connections File (data/edges.txt)\n",
    "\n",
    "The column structure of the file should be:\n",
    "1. The user ID\n",
    "2. The ID of his friend"
   ]
  },
  {
   "cell_type": "code",
   "execution_count": 3,
   "metadata": {
    "collapsed": false
   },
   "outputs": [
    {
     "name": "stdout",
     "output_type": "stream",
     "text": [
      "['0', '1']\n",
      "['0', '2']\n",
      "['0', '3']\n",
      "['0', '4']\n",
      "['0', '5']\n",
      "['0', '6']\n",
      "['0', '7']\n",
      "['0', '8']\n",
      "['0', '9']\n",
      "['0', '10']\n"
     ]
    }
   ],
   "source": [
    "import os\n",
    "DIR_PATH = os.getcwd()  # Get currect directory\n",
    "N = 10                  # Number of data points to take\n",
    "\n",
    "# Open edges file and print to see structure\n",
    "f = open(DIR_PATH + os.sep + \"data/edges.txt\")\n",
    "for i in range(N):\n",
    "    line=f.next().strip().split('\\t')\n",
    "    print line\n",
    "f.close()"
   ]
  },
  {
   "cell_type": "markdown",
   "metadata": {},
   "source": [
    "#### Gowalla's Users Check-ins File (data/checkins.txt)\n",
    "\n",
    "The column structure of the file should be:\n",
    "1. The user ID\n",
    "2. Check-in time\n",
    "3. Check-in location's latitude\n",
    "4. Check-in location's longitude\n",
    "5. Check-in location's ID"
   ]
  },
  {
   "cell_type": "code",
   "execution_count": 6,
   "metadata": {
    "collapsed": false,
    "scrolled": true
   },
   "outputs": [
    {
     "name": "stdout",
     "output_type": "stream",
     "text": [
      "['0', '2010-10-19T23:55:27Z', '30.2359091167', '-97.7951395833', '22847']\n",
      "['0', '2010-10-18T22:17:43Z', '30.2691029532', '-97.7493953705', '420315']\n",
      "['0', '2010-10-17T23:42:03Z', '30.2557309927', '-97.7633857727', '316637']\n",
      "['0', '2010-10-17T19:26:05Z', '30.2634181234', '-97.7575966669', '16516']\n",
      "['0', '2010-10-16T18:50:42Z', '30.2742918584', '-97.7405226231', '5535878']\n",
      "['0', '2010-10-12T23:58:03Z', '30.261599404', '-97.7585805953', '15372']\n",
      "['0', '2010-10-12T22:02:11Z', '30.2679095833', '-97.7493124167', '21714']\n",
      "['0', '2010-10-12T19:44:40Z', '30.2691029532', '-97.7493953705', '420315']\n",
      "['0', '2010-10-12T15:57:20Z', '30.2811204101', '-97.7452111244', '153505']\n",
      "['0', '2010-10-12T15:19:03Z', '30.2691029532', '-97.7493953705', '420315']\n"
     ]
    }
   ],
   "source": [
    "# Open edges file and print to see structure\n",
    "f = open(DIR_PATH + os.sep + \"data/checkins.txt\")\n",
    "for i in range(N):\n",
    "    line=f.next().strip().split('\\t')\n",
    "    print line\n",
    "f.close()"
   ]
  },
  {
   "cell_type": "markdown",
   "metadata": {},
   "source": [
    "## 3. Data Analysis"
   ]
  },
  {
   "cell_type": "markdown",
   "metadata": {},
   "source": [
    "Based on the Connective Media theories explained above, we want to analyze the dataset and, for each theory, make the following analyses:\n",
    "\n",
    "* **Social learning**: we want to see if there is a direct influence on the motivation of users to contribute more based on what they observe in others.  \n",
    "\n",
    "    * Determine whether the service is used more on average (by considering the number of times users checked in) based on the amount of connections in a user's social network.\n",
    "    * Determine whether the service is used more on average (by considering the number of days users actively used the service) based on the amount of connections in a user's social network.\n",
    "    * **Determine whether users tend to progressively use the service more based on the number of friends they gain over time.**\n",
    "    * Analyze how the check-in dynamic is influenced in terms of checking in all alone vs. with friends (Do users tend to check in moments after their friends checked in?)\n",
    "\n",
    "\n",
    "* **Reader-to-Leader framework**: we want to identify the _readers, contributors, collaborators and leaders_ in the Gowalla Social Network. \n",
    "\n",
    "    * Identify the category to which a user belongs to by analyzing the number of times users have checked in over the total time they were active in the network. (Seeing what the distribution looks like might be helpful)\n",
    "    * In order to identify the leaders in the network, it is not so much about the number of times they have checked in over time but about the influence they have on others. In that sense, using the previous analysis of how the check-in dynamic is influenced by others, leaders would be the people that have the most influence on others.\n",
    "    * Do leaders tend to fall under the collaborator category as well?\n",
    "    \n",
    "    \n",
    "* **Strong ties and weak ties**: we are going to try and analyze what connections are most likely to be the strong ties in the social network (by identifying communities in the graph) and see how they correspond to geographical areas. Moreover, we will also try to identify what are the weak ties in the social network (which could potentially have the most influence in helping the social network become popular in new areas). \n",
    "\n",
    "    * Identify a central point [or set of clustered points (via kmeans?) to which a user belongs to (based on the check-in locations and excluding outliers).\n",
    "    * Identify clusters of users of geographical areas which will determine communities of users.\n",
    "    * See how the strong ties in the network are reflected in these geographical areas (do users in the same community tend to be friends?)\n",
    "    * See how the weak ties in the network are reflected in these geographical areas (who are the users that connect different communitites?)\n",
    "    \n",
    "    \n",
    "How many friendships form as a result of the network? How many friendships are documented/tracked on the social network"
   ]
  },
  {
   "cell_type": "markdown",
   "metadata": {},
   "source": [
    "Before proceeding to perform the data analysis, we are going to gather the variables we will most likely need for our analysis. These variables include:\n",
    "\n",
    "* Users ID\n",
    "* Number of friends\n",
    "* Number of days between first and last check-in\n",
    "* Number of active days a user has used the service\n",
    "* Total number of check-ins for a user"
   ]
  },
  {
   "cell_type": "code",
   "execution_count": 7,
   "metadata": {
    "collapsed": false
   },
   "outputs": [
    {
     "name": "stdout",
     "output_type": "stream",
     "text": [
      "{'connections': 615, 'number_of_active_days': 113, 'number_of_checkins': 225, 'number_of_days': 151}\n"
     ]
    }
   ],
   "source": [
    "from datetime import datetime\n",
    "import time\n",
    "import matplotlib as mpl\n",
    "import matplotlib.pyplot as plt\n",
    "import seaborn as sns\n",
    "\n",
    "#Gets the number of days between 2 dates\n",
    "def cal_days_diff(a,b):\n",
    "    A = a.replace(hour = 0, minute = 0, second = 0, microsecond = 0)\n",
    "    B = b.replace(hour = 0, minute = 0, second = 0, microsecond = 0)\n",
    "    return (A - B).days\n",
    "\n",
    "#Get number of friends a node has\n",
    "def get_number_connections(filename, nodes):\n",
    "    with open(DIR_PATH + os.sep + filename, \"rb\") as input_data:\n",
    "        data = [line.strip().split('\\t') for line in input_data]\n",
    "        for line in data:\n",
    "            node = int(line[0])\n",
    "            if node not in nodes:\n",
    "                nodes[node] = {}\n",
    "                nodes[node]['connections'] = 1\n",
    "            else:\n",
    "                nodes[node]['connections'] += 1\n",
    "    return None\n",
    "\n",
    "#Get number of days a user has been in the system\n",
    "def get_number_days(filename, nodes):\n",
    "    temp_nodes = {}\n",
    "    with open(DIR_PATH + os.sep + filename, \"rb\") as input_data:\n",
    "        data = [line.strip().split('\\t') for line in input_data]\n",
    "        for line in data:\n",
    "            node = int(line[0])\n",
    "            if node not in temp_nodes:\n",
    "                temp_nodes[node] = {}\n",
    "                temp_nodes[node]['last'] = datetime.strptime(line[1], '%Y-%m-%dT%H:%M:%SZ')\n",
    "                temp_nodes[node]['first'] = datetime.strptime(line[1], '%Y-%m-%dT%H:%M:%SZ')\n",
    "                temp_nodes[node]['count'] = 1\n",
    "                temp_nodes[node]['active_days'] = 1\n",
    "            else:\n",
    "                prev = temp_nodes[node]['first']\n",
    "                temp_nodes[node]['first'] = datetime.strptime(line[1], '%Y-%m-%dT%H:%M:%SZ')\n",
    "                if prev.date() != temp_nodes[node]['first'].date():\n",
    "                    temp_nodes[node]['active_days'] += 1\n",
    "                temp_nodes[node]['count'] += 1\n",
    "\n",
    "    for node_val in temp_nodes:\n",
    "        num_days = cal_days_diff(temp_nodes[node_val]['last'],temp_nodes[node_val]['first'])\n",
    "        nodes[node_val]['number_of_days'] = num_days + 1\n",
    "        nodes[node_val]['number_of_checkins'] = temp_nodes[node_val]['count']\n",
    "        nodes[node_val]['number_of_active_days'] = temp_nodes[node_val]['active_days']\n",
    "\n",
    "    return None\n",
    "\n",
    "nodes = {}\n",
    "get_number_connections('data/edges.txt', nodes)\n",
    "get_number_days('data/checkins.txt', nodes)\n",
    "\n",
    "print nodes[0]"
   ]
  },
  {
   "cell_type": "markdown",
   "metadata": {},
   "source": [
    "The previous _print_ statement shows the structure of a node"
   ]
  },
  {
   "cell_type": "markdown",
   "metadata": {
    "collapsed": false
   },
   "source": [
    "    \n",
    "### 3.1 Social Learning\n",
    "\n",
    "Now that we have all our information loaded, we are going to see if there is a direct influence on the motivation of users to contribute more based on what they observe in others. \n",
    "\n",
    "In order to do so the first thing we are going to do is analyze the number of checkins users have based on the number of connections (friends). While this does not imply necessarily that users are checking in more because their friends are doing so, it does help establish a relationship based on that having more friends makes users tend to check in more:"
   ]
  },
  {
   "cell_type": "code",
   "execution_count": 83,
   "metadata": {
    "collapsed": false,
    "scrolled": true
   },
   "outputs": [
    {
     "data": {
      "image/png": "[encoded data removed]",
      "text/plain": [
       "<matplotlib.figure.Figure at 0x1864cd050>"
      ]
     },
     "metadata": {},
     "output_type": "display_data"
    }
   ],
   "source": [
    "%matplotlib inline\n",
    "import pylab\n",
    "pylab.rcParams['savefig.dpi'] = 100 \n",
    "\n",
    "#Plot\n",
    "def plot(X,Y, title, xlabel, ylabel, plottype='', limX=max(i for i in X), limY=max(i for i in Y)):\n",
    "    \n",
    "    #plt.figure()\n",
    "    sns.set_palette(\"deep\", desat=.6)\n",
    "    plt.plot(X, Y,plottype)\n",
    "    plt.title(title)\n",
    "    plt.xlabel(xlabel)\n",
    "    plt.ylabel(ylabel)\n",
    "    plt.xlim(0, limX)\n",
    "    plt.ylim(0, limY)\n",
    "    plt.show()\n",
    "\n",
    "X = []\n",
    "Y = []\n",
    "temp = {}\n",
    "for node in nodes:\n",
    "    #if popCheckIn[key][0]/float(maxVal) < 0.05:\n",
    "    X.append(nodes[node]['connections'])\n",
    "    if 'number_of_checkins' not in nodes[node]:\n",
    "        Y.append(0)\n",
    "    else:\n",
    "        Y.append(nodes[node]['number_of_checkins'])\n",
    "    try:\n",
    "        if 'number_of_checkins' not in nodes[node]:\n",
    "            temp[nodes[node]['connections']].append(0)\n",
    "        else:\n",
    "            temp[nodes[node]['connections']].append(nodes[node]['number_of_checkins'])\n",
    "    except:\n",
    "        if 'number_of_checkins' not in nodes[node]:\n",
    "            temp[nodes[node]['connections']] = [0]\n",
    "        else:\n",
    "            temp[nodes[node]['connections']] = [nodes[node]['number_of_checkins']]\n",
    "        \n",
    "plot(X,Y,\"Checkins vs Popularity\", \"Popularity\", \"Checkins\", \".\")"
   ]
  },
  {
   "cell_type": "code",
   "execution_count": 84,
   "metadata": {
    "collapsed": false
   },
   "outputs": [
    {
     "data": {
      "image/png": "[encoded data removed]",
      "text/plain": [
       "<matplotlib.figure.Figure at 0x184969310>"
      ]
     },
     "metadata": {},
     "output_type": "display_data"
    }
   ],
   "source": [
    "Xavg = []\n",
    "Yavg = []\n",
    "for key in temp:\n",
    "    Xavg.append(key)\n",
    "    Yavg.append(sum(temp[key])/float(len(temp[key])))\n",
    "plot(Xavg,Yavg,\"Checkins vs Popularity\", \"Popularity\", \"Checkins\", \".\",limX=100, limY=110)"
   ]
  },
  {
   "cell_type": "code",
   "execution_count": 18,
   "metadata": {
    "collapsed": false
   },
   "outputs": [],
   "source": [
    "%matplotlib inline\n",
    "from pylab import *\n",
    "x = linspace(0, 5, 10)\n",
    "y = x ** 2"
   ]
  },
  {
   "cell_type": "code",
   "execution_count": 20,
   "metadata": {
    "collapsed": false
   },
   "outputs": [
    {
     "data": {
      "image/png": "[encoded data removed]",
      "text/plain": [
       "<matplotlib.figure.Figure at 0x18495d310>"
      ]
     },
     "metadata": {},
     "output_type": "display_data"
    }
   ],
   "source": [
    "figure()\n",
    "plot(x, y, 'r')\n",
    "xlabel('x')\n",
    "ylabel('y')\n",
    "title('title')\n",
    "show()"
   ]
  },
  {
   "cell_type": "code",
   "execution_count": null,
   "metadata": {
    "collapsed": true
   },
   "outputs": [],
   "source": []
  }
 ],
 "metadata": {
  "kernelspec": {
   "display_name": "Python 2",
   "language": "python",
   "name": "python2"
  },
  "language_info": {
   "codemirror_mode": {
    "name": "ipython",
    "version": 2
   },
   "file_extension": ".py",
   "mimetype": "text/x-python",
   "name": "python",
   "nbconvert_exporter": "python",
   "pygments_lexer": "ipython2",
   "version": "2.7.6"
  }
 },
 "nbformat": 4,
 "nbformat_minor": 0
}
