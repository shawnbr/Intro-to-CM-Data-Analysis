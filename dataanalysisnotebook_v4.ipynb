{
 "cells": [
  {
   "cell_type": "markdown",
   "metadata": {},
   "source": [
    "# Connective Media Data Analysis - Gowalla Social Network\n",
    "##<span style=\"color:#B0AEAE\">Authors: Shawn Bramson and Oliver Hoffman</span>\n",
    "\n",
    "\n",
    "## 1. Abstract\n",
    "\n",
    "The success of Social Networking Sites (SNS) heavily depends on the amount of active users who engage in the service and their contributions. It is not uncommon for many of these users to access SNSs with the sole purpose of benefiting from the contributions of a few. In that sense, the developers and designers of the services find it necessary to motivate users to contribute more content to the site in order to keep the service alive by attracting new users and keeping the current ones engaged in the service. \n",
    "\n",
    "Social behaviour theory has been in many cases demonstrated to be appliacble to Connective Media applications. Being able to identify the key concepts of this theory and how they apply both to the design and execution of a SNS would be highly benefitial to the developers behind them. More specifically it would help them understand their users and identify the areas in which their services can be improved. \n",
    "\n",
    "In this assignment we intend to use some the Connective Media theories learned throughout the semester to analyze the _Gowalla Social Network_ and see how they apply. In that sense, the theories we want to use include:\n",
    "\n",
    "* Burke's work on **social learning**, which explains that:\n",
    "  > _From the perspective of a user, a social network site is primarily comprised of a set of friends and the content they produce. Therefore, **one likely influence on newcomers’ behavior is the behavior of their friends.** Social learning theory suggests that **people learn by observation in social situations, and that they will begin to act like people they observe** even without external incentives._\n",
    "\n",
    "  We are going to analyze the _Gowalla Social Network_ and see if there is a direct influence on the motivation of users to contribute more based on what they observe in others.  \n",
    "  \n",
    "  \n",
    "* Peerce's work on the **Reader-to-Leader framework**, which categorizes users into _readers, contributors, collaborators, and leaders_. Based on this framework (adapting it of course to the social network in question), we would like to identify the key users (leaders) who are responsible for the motivation to contribute/collaborate on most users of the _Gowalla Social Network_ and who are the readers (who simply use the social network to get information from it). \n",
    "\n",
    "\n",
    "* Granovetters's work on **strong ties and weak ties**, which explains how users are influenced by the information they receive from their weak ties (in many cases even more so than the information received from their strong ties). Although identifying how this influence takes place in the _Gowalla Social Network_ might be too complicated, we are going to try and analyze what connections are most likely to be the weak ties in the social network (as they might carry more influence in the users' behaviour than one might initially expect) as well as the strong ties. \n",
    "\n",
    "\n",
    "## 2. Data Overview\n",
    "\n",
    "The dataset on which our analysis will be carried out is the [SNAP's Gowalla Social Network](http://snap.stanford.edu/data/loc-gowalla.html) dataset. [Gowalla](http://en.wikipedia.org/wiki/Gowalla) was a location-based social networking website where users shared their locations by checking-in. The files included in the dataset contain information over the period of Feb. 2009 - Oct. 2010 and include:\n",
    "\n",
    "* An undirected graph of the friendship network which was collected using their public API, and consists of 196,591 nodes and 950,327 edges.\n",
    "\n",
    "* A total of 6,442,890 geo-tagged check-ins for each user.\n",
    "\n",
    "### 2.1 Structure of the data\n",
    "\n",
    "Before beginning the analysis process it is necessary to see if there are no problems accessing the files and then checking what the structure of the data looks like:\n",
    "\n",
    "#### Gowalla's Graph Connections File (data/edges.txt)\n",
    "\n",
    "The column structure of the file should be:\n",
    "1. The user ID\n",
    "2. The ID of his friend"
   ]
  },
  {
   "cell_type": "code",
   "execution_count": 14,
   "metadata": {
    "collapsed": false
   },
   "outputs": [
    {
     "name": "stdout",
     "output_type": "stream",
     "text": [
      "['0', '1']\n",
      "['0', '2']\n",
      "['0', '3']\n",
      "['0', '4']\n",
      "['0', '5']\n",
      "['0', '6']\n",
      "['0', '7']\n",
      "['0', '8']\n",
      "['0', '9']\n",
      "['0', '10']\n"
     ]
    }
   ],
   "source": [
    "import os\n",
    "DIR_PATH = os.getcwd()  # Get currect directory\n",
    "N = 10                  # Number of data points to take\n",
    "\n",
    "# Open edges file and print to see structure\n",
    "f = open(DIR_PATH + os.sep + \"data/edges.txt\")\n",
    "for i in range(N):\n",
    "    line=f.next().strip().split('\\t')\n",
    "    print line\n",
    "f.close()"
   ]
  },
  {
   "cell_type": "markdown",
   "metadata": {},
   "source": [
    "#### Gowalla's Users Check-ins File (data/checkins.txt)\n",
    "\n",
    "The column structure of the file should be:\n",
    "1. The user ID\n",
    "2. Check-in time\n",
    "3. Check-in location's latitude\n",
    "4. Check-in location's longitude\n",
    "5. Check-in location's ID"
   ]
  },
  {
   "cell_type": "code",
   "execution_count": 15,
   "metadata": {
    "collapsed": false,
    "scrolled": true
   },
   "outputs": [
    {
     "name": "stdout",
     "output_type": "stream",
     "text": [
      "['0', '2010-10-19T23:55:27Z', '30.2359091167', '-97.7951395833', '22847']\n",
      "['0', '2010-10-18T22:17:43Z', '30.2691029532', '-97.7493953705', '420315']\n",
      "['0', '2010-10-17T23:42:03Z', '30.2557309927', '-97.7633857727', '316637']\n",
      "['0', '2010-10-17T19:26:05Z', '30.2634181234', '-97.7575966669', '16516']\n",
      "['0', '2010-10-16T18:50:42Z', '30.2742918584', '-97.7405226231', '5535878']\n",
      "['0', '2010-10-12T23:58:03Z', '30.261599404', '-97.7585805953', '15372']\n",
      "['0', '2010-10-12T22:02:11Z', '30.2679095833', '-97.7493124167', '21714']\n",
      "['0', '2010-10-12T19:44:40Z', '30.2691029532', '-97.7493953705', '420315']\n",
      "['0', '2010-10-12T15:57:20Z', '30.2811204101', '-97.7452111244', '153505']\n",
      "['0', '2010-10-12T15:19:03Z', '30.2691029532', '-97.7493953705', '420315']\n"
     ]
    }
   ],
   "source": [
    "# Open edges file and print to see structure\n",
    "f = open(DIR_PATH + os.sep + \"data/checkins.txt\")\n",
    "for i in range(N):\n",
    "    line=f.next().strip().split('\\t')\n",
    "    print line\n",
    "f.close()"
   ]
  },
  {
   "cell_type": "markdown",
   "metadata": {},
   "source": [
    "## 3. Data Analysis"
   ]
  },
  {
   "cell_type": "markdown",
   "metadata": {},
   "source": [
    "Based on the Connective Media theories explained above, we want to analyze the dataset and, for each theory, make the following analyses:\n",
    "\n",
    "* **Social learning**: we want to see if there is a direct influence on the motivation of users to contribute more based on what they observe in others.  \n",
    "\n",
    "    * Determine whether the service is used more on average (by considering the number of times users checked in) based on the amount of connections in a user's social network.\n",
    "    * Determine whether the service is used more on average (by considering the number of days users actively used the service) based on the amount of connections in a user's social network.\n",
    "    * Determine whether users tend to progressively use the service more based on the number of friends they gain over time.\n",
    "    * Analyze how the check-in dynamic is influenced in terms of checking in all alone vs. with friends (Do users tend to check in moments after their friends checked in?)\n",
    "\n",
    "\n",
    "* **Reader-to-Leader framework**: we want to identify the _readers, contributors, collaborators and leaders_ in the Gowalla Social Network. \n",
    "\n",
    "    * Identify the category to which a user belongs to by analyzing the number of times users have checked in over the total time they were active in the network. (Seeing what the distribution looks like might be helpful)\n",
    "    * In order to identify the leaders in the network, it is not so much about the number of times they have checked in over time but about the influence they have on others. In that sense, using the previous analysis of how the check-in dynamic is influenced by others, leaders would be the people that have the most influence on others.\n",
    "    * Do leaders tend to fall under the collaborator category as well?\n",
    "    \n",
    "    \n",
    "* **Strong ties and weak ties**: we are going to try and analyze what connections are most likely to be the strong ties in the social network (by identifying communities in the graph) and see how they correspond to geographical areas. Moreover, we will also try to identify what are the weak ties in the social network (which could potentially have the most influence in helping the social network become popular in new areas). \n",
    "\n",
    "    * Identify a central point to which a user belongs to (based on the check-in locations and excluding outliers).\n",
    "    * Identify clusters of users of geographical areas which will determine communities of users.\n",
    "    * See how the strong ties in the network are reflected in these geographical areas (do users in the same community tend to be friends?)\n",
    "    * See how the weak ties in the network are reflected in these geographical areas (who are the users that connect different communitites?)\n",
    "    "
   ]
  },
  {
   "cell_type": "code",
   "execution_count": null,
   "metadata": {
    "collapsed": false
   },
   "outputs": [],
   "source": []
  }
 ],
 "metadata": {
  "kernelspec": {
   "display_name": "Python 2",
   "language": "python",
   "name": "python2"
  },
  "language_info": {
   "codemirror_mode": {
    "name": "ipython",
    "version": 2
   },
   "file_extension": ".py",
   "mimetype": "text/x-python",
   "name": "python",
   "nbconvert_exporter": "python",
   "pygments_lexer": "ipython2",
   "version": "2.7.6"
  }
 },
 "nbformat": 4,
 "nbformat_minor": 0
}
